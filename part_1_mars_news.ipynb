{
 "cells": [
  {
   "cell_type": "markdown",
   "metadata": {},
   "source": [
    "# Module 12 Challenge\n",
    "## Deliverable 1: Scrape Titles and Preview Text from Mars News"
   ]
  },
  {
   "cell_type": "markdown",
   "metadata": {},
   "source": [
    "### Step 1: Visit the Website\n",
    "\n",
    "1. Use automated browsing to visit the [Mars news site](https://static.bc-edx.com/data/web/mars_news/index.html). Inspect the page to identify which elements to scrape.\n",
    "\n",
    "      > **Hint** To identify which elements to scrape, you might want to inspect the page by using Chrome DevTools."
   ]
  },
  {
   "cell_type": "markdown",
   "metadata": {},
   "source": [
    "### Step 2: Scrape the Website\n",
    "\n",
    "Create a Beautiful Soup object and use it to extract text elements from the website."
   ]
  },
  {
   "cell_type": "markdown",
   "metadata": {},
   "source": [
    "### Step 3: Store the Results\n",
    "\n",
    "Extract the titles and preview text of the news articles that you scraped. Store the scraping results in Python data structures as follows:\n",
    "\n",
    "* Store each title-and-preview pair in a Python dictionary. And, give each dictionary two keys: `title` and `preview`. An example is the following:\n",
    "\n",
    "  ```python\n",
    "  {'title': \"NASA's MAVEN Observes Martian Light Show Caused by Major Solar Storm\", \n",
    "   'preview': \"For the first time in its eight years orbiting Mars, NASA’s MAVEN mission witnessed two different types of ultraviolet aurorae simultaneously, the result of solar storms that began on Aug. 27.\"\n",
    "  }\n",
    "  ```\n",
    "\n",
    "* Store all the dictionaries in a Python list.\n",
    "\n",
    "* Print the list in your notebook."
   ]
  },
  {
   "cell_type": "code",
   "execution_count": 24,
   "metadata": {
    "scrolled": true
   },
   "outputs": [
    {
     "name": "stdout",
     "output_type": "stream",
     "text": [
      "News Article:\n",
      "Date: November 9, 2022\n",
      "Title: NASA's MAVEN Observes Martian Light Show Caused by Major Solar Storm\n",
      "Preview: For the first time in its eight years orbiting Mars, NASA’s MAVEN mission witnessed two different types of ultraviolet aurorae simultaneously, the result of solar storms that began on Aug. 27.\n",
      "==================================================\n",
      "News Article:\n",
      "Date: No Date Available\n",
      "Title: No Title Available\n",
      "Preview: No Preview Available\n",
      "==================================================\n",
      "News Article:\n",
      "Date: November 9, 2022\n",
      "Title: NASA's MAVEN Observes Martian Light Show Caused by Major Solar Storm\n",
      "Preview: For the first time in its eight years orbiting Mars, NASA’s MAVEN mission witnessed two different types of ultraviolet aurorae simultaneously, the result of solar storms that began on Aug. 27.\n",
      "==================================================\n",
      "News Article:\n",
      "Date: November 1, 2022\n",
      "Title: NASA Prepares to Say 'Farewell' to InSight Spacecraft\n",
      "Preview: A closer look at what goes into wrapping up the mission as the spacecraft’s power supply continues to dwindle.\n",
      "==================================================\n",
      "News Article:\n",
      "Date: October 28, 2022\n",
      "Title: NASA and ESA Agree on Next Steps to Return Mars Samples to Earth\n",
      "Preview: The agency’s Perseverance rover will establish the first sample depot on Mars.\n",
      "==================================================\n",
      "News Article:\n",
      "Date: October 27, 2022\n",
      "Title: NASA's InSight Lander Detects Stunning Meteoroid Impact on Mars\n",
      "Preview: The agency’s lander felt the ground shake during the impact while cameras aboard the Mars Reconnaissance Orbiter spotted the yawning new crater from space.\n",
      "==================================================\n",
      "News Article:\n",
      "Date: October 21, 2022\n",
      "Title: NASA To Host Briefing on InSight, Mars Reconnaissance Orbiter Findings\n",
      "Preview: Scientists from two Mars missions will discuss how they combined images and data for a major finding on the Red Planet.\n",
      "==================================================\n",
      "News Article:\n",
      "Date: October 20, 2022\n",
      "Title: Why NASA Is Trying To Crash Land on Mars\n",
      "Preview: Like a car’s crumple zone, the experimental SHIELD lander is designed to absorb a hard impact.\n",
      "==================================================\n",
      "News Article:\n",
      "Date: October 19, 2022\n",
      "Title: Curiosity Mars Rover Reaches Long-Awaited Salty Region\n",
      "Preview: After years of climbing, the Mars rover has arrived at a special region believed to have formed as Mars’ climate was drying.\n",
      "==================================================\n",
      "News Article:\n",
      "Date: October 12, 2022\n",
      "Title: Mars Mission Shields Up for Tests\n",
      "Preview: Protecting Mars Sample Return spacecraft from micrometeorites requires high-caliber work.\n",
      "==================================================\n",
      "News Article:\n",
      "Date: October 7, 2022\n",
      "Title: NASA's InSight Waits Out Dust Storm\n",
      "Preview: InSight’s team is taking steps to help the solar-powered lander continue operating for as long as possible.\n",
      "==================================================\n",
      "News Article:\n",
      "Date: September 19, 2022\n",
      "Title: NASA's InSight 'Hears' Its First Meteoroid Impacts on Mars\n",
      "Preview: The Mars lander’s seismometer has picked up vibrations from four separate impacts in the past two years.\n",
      "==================================================\n",
      "News Article:\n",
      "Date: September 15, 2022\n",
      "Title: NASA's Perseverance Rover Investigates Geologically Rich Mars Terrain\n",
      "Preview: The latest findings provide greater detail on a region of the Red Planet that has a watery past and is yielding promising samples for the NASA-ESA Mars Sample Return campaign.\n",
      "==================================================\n",
      "News Article:\n",
      "Date: September 12, 2022\n",
      "Title: NASA to Host Briefing on Perseverance Mars Rover Mission Operations\n",
      "Preview: Members of the mission will discuss the rover’s activities as it gathers samples in an ancient river delta.\n",
      "==================================================\n",
      "News Article:\n",
      "Date: August 25, 2022\n",
      "Title: NASA's Perseverance Makes New Discoveries in Mars' Jezero Crater\n",
      "Preview: The rover found that Jezero Crater’s floor is made up of volcanic rocks that have interacted with water.\n",
      "==================================================\n",
      "News Article:\n",
      "Date: August 5, 2022\n",
      "Title: 10 Years Since Landing, NASA's Curiosity Mars Rover Still Has Drive\n",
      "Preview: Despite signs of wear, the intrepid spacecraft is about to start an exciting new chapter of its mission as it climbs a Martian mountain.\n",
      "==================================================\n",
      "News Article:\n",
      "Date: August 4, 2022\n",
      "Title: SAM's Top 5 Discoveries Aboard NASA's Curiosity Rover at Mars\n",
      "Preview: “Selfie” of the Curiosity rover with inset showing the SAM instrument prior to installation on the rover.\n",
      "==================================================\n",
      "News Article:\n",
      "Date: No Date Available\n",
      "Title: No Title Available\n",
      "Preview: No Preview Available\n",
      "==================================================\n",
      "Scraped data saved in 'news_data.json'\n"
     ]
    }
   ],
   "source": [
    "# Import Splinter, BeautifulSoup, JSON\n",
    "from splinter import Browser\n",
    "from bs4 import BeautifulSoup as soup\n",
    "import json\n",
    "\n",
    "\n",
    "# Initialize browser\n",
    "browser = Browser('chrome')\n",
    "\n",
    "# Visit the Mars news site\n",
    "url = 'https://static.bc-edx.com/data/web/mars_news/index.html'\n",
    "browser.visit(url)\n",
    "\n",
    "# Parse the page content with BeautifulSoup\n",
    "html = browser.html\n",
    "mars_news_soup = soup(html, 'html.parser')\n",
    "\n",
    "# Find all the news article containers\n",
    "news_containers = mars_news_soup.find_all('div', class_='col-md-12')\n",
    "\n",
    "# Loop through each news container\n",
    "for container in news_containers:\n",
    "    date_elem = container.find('div', class_='list_date')\n",
    "    date = date_elem.text if date_elem else \"No Date Available\"\n",
    "\n",
    "    title_elem = container.find('div', class_='content_title')\n",
    "    title = title_elem.text if title_elem else \"No Title Available\"\n",
    "\n",
    "    preview_elem = container.find('div', class_='article_teaser_body')\n",
    "    preview = preview_elem.text if preview_elem else \"No Preview Available\"\n",
    "    \n",
    "    print(\"News Article:\")\n",
    "    print(\"Date:\", date)\n",
    "    print(\"Title:\", title)\n",
    "    print(\"Preview:\", preview)\n",
    "    print(\"=\"*50)\n",
    "\n",
    "# Quit the browser\n",
    "browser.quit()\n",
    "\n",
    "# Save the scraped data as JSON\n",
    "with open('news_data.json', 'w') as json_file:\n",
    "    json.dump(news_list, json_file, indent=4)\n",
    "\n",
    "print(\"Scraped data saved in 'news_data.json'\")\n"
   ]
  },
  {
   "cell_type": "code",
   "execution_count": null,
   "metadata": {},
   "outputs": [],
   "source": []
  },
  {
   "cell_type": "code",
   "execution_count": 7,
   "metadata": {},
   "outputs": [],
   "source": []
  }
 ],
 "metadata": {
  "kernelspec": {
   "display_name": "Python 3 (ipykernel)",
   "language": "python",
   "name": "python3"
  },
  "language_info": {
   "codemirror_mode": {
    "name": "ipython",
    "version": 3
   },
   "file_extension": ".py",
   "mimetype": "text/x-python",
   "name": "python",
   "nbconvert_exporter": "python",
   "pygments_lexer": "ipython3",
   "version": "3.10.11"
  },
  "vscode": {
   "interpreter": {
    "hash": "31f2aee4e71d21fbe5cf8b01ff0e069b9275f58929596ceb00d14d90e3e16cd6"
   }
  }
 },
 "nbformat": 4,
 "nbformat_minor": 4
}
